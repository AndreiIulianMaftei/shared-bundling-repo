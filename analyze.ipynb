{
 "cells": [
  {
   "cell_type": "code",
   "execution_count": null,
   "metadata": {},
   "outputs": [],
   "source": [
    "import pandas as pd \n",
    "import numpy as np\n",
    "import pylab as plt \n",
    "import os\n",
    "import shutil\n",
    "import json \n",
    "\n",
    "from collections import defaultdict"
   ]
  },
  {
   "cell_type": "code",
   "execution_count": null,
   "metadata": {},
   "outputs": [],
   "source": [
    "# \"distortion\": 1.0024048812562527,\n",
    "# \"frechet\": 18.86473915385344,\n",
    "# \"directionality\": 13.544692737430168,\n",
    "# \"monotonicity\": 5.726256983240224,\n",
    "# \"projected_monotonicity\": 0.0037938796748620504,\n",
    "# \"SL_angle\": 0.5253465401656082,\n",
    "# \"mean_edge_length_difference\": 2.2065501609141793,\n",
    "# \"inkratio\": 0.9363746908612415,\n",
    "# \"mean_occupation_area\": 28.519553072625698,\n",
    "# \"edge_density_distribution\": 0.1843612641096115\n",
    "\n",
    "#\"ambiguity_1\", \"precision_1\", \"specificity_1\", \"FPR_1\"\n",
    "metrics = [\"distortion\", \"frechet\", \"directionality\", \"monotonicity\", \"projected_monotonicity\", \"mean_edge_length_difference\", \n",
    "           \"inkratio\", \"mean_occupation_area\", \"edge_density_distribution\", \n",
    "            'self_intersections', 'directionality_mag', \n",
    "            'ambiguity_1', 'precision_1', \"specificity_1\", \"FPR_1\"]\n",
    "# metrics = sum(([f'ambiguity_{i}', f\"precision_{i}\", f\"specificity_{i}\", f\"FPR_{i}\"] for i in range(1,5)),start=metrics)\n",
    "# metrics += [\"order\", \"size\", \"density\", \"apl\", \"cc\", \"diameter\", \"connectivity\", \"algebraic\"]"
   ]
  },
  {
   "cell_type": "code",
   "execution_count": null,
   "metadata": {},
   "outputs": [],
   "source": [
    "results = {metric: defaultdict(dict) for metric in metrics}\n"
   ]
  },
  {
   "cell_type": "code",
   "execution_count": null,
   "metadata": {},
   "outputs": [],
   "source": []
  },
  {
   "cell_type": "code",
   "execution_count": null,
   "metadata": {},
   "outputs": [],
   "source": [
    "outdir = \"dashboard/output_dashboard\"\n",
    "\n",
    "graphmap = dict()\n",
    "algmap   = dict() \n",
    "\n",
    "for graphname in os.listdir(outdir):\n",
    "    if \".csv\" in graphname: continue\n",
    "    if not all(os.path.isfile(f\"{outdir}/{graphname}/{alg}.json\") for alg in ['cubu', 'epb', 'fd', 'sepb', 'wr']): \n",
    "        shutil.rmtree(f\"{outdir}/{graphname}\")\n",
    "        continue\n",
    "    for alg in ['cubu', 'epb', 'fd', 'sepb', 'wr']:\n",
    "\n",
    "        try: \n",
    "            with open(f\"{outdir}/{graphname}/{alg}.json\") as fdata:\n",
    "                jsdata = json.load(fdata)\n",
    "        except: \n",
    "            continue\n",
    "\n",
    "\n",
    "        for metric in metrics:\n",
    "            results[metric][graphname][alg] = float(jsdata['graph'][metric]) if metric in jsdata['graph'] else -100\n",
    "        # if results[\"distortion\"][graphname][alg] < 50: print(graphname, alg)\n",
    "        # if np.isnan(results[\"distortion\"][graphname][alg]): print(graphname, alg)\n",
    "\n",
    "        if np.isnan(results[\"edge_density_distribution\"][graphname][alg]): print(graphname, alg)\n",
    "        if np.isnan(results['distortion'][graphname][alg]):\n",
    "            results['distortion'][graphname][alg]  = 1\n",
    "\n",
    "        # import csv\n",
    "        # jsdata['graph']['instance'] = graphname\n",
    "        # file_exists = os.path.isfile('dashboard/output_dashboard/instances.csv')\n",
    "        # with open('dashboard/output_dashboard/instances.csv', 'a') as f:    \n",
    "        #     writer = csv.DictWriter(f, delimiter=';', lineterminator='\\n',fieldnames=jsdata['graph'])\n",
    "\n",
    "        #     if not file_exists:\n",
    "        #         writer.writeheader()\n",
    "            \n",
    "        #     writer.writerow(jsdata['graph'])            \n",
    "\n"
   ]
  },
  {
   "cell_type": "code",
   "execution_count": null,
   "metadata": {},
   "outputs": [],
   "source": [
    "with open(\"clusterout.json\", 'r') as fdata:\n",
    "    clusterdata = json.load(fdata)\n",
    "\n",
    "results['cluster'] = dict()\n",
    "for graphname in results['distortion'].keys():\n",
    "    results['cluster'][graphname] = dict()\n",
    "    for alg in ['cubu', 'epb', 'fd', 'sepb', 'wr']:\n",
    "\n",
    "        results['cluster'][graphname][alg] = clusterdata[graphname][alg]['cluster'] if graphname in clusterdata else 0"
   ]
  },
  {
   "cell_type": "code",
   "execution_count": null,
   "metadata": {},
   "outputs": [],
   "source": [
    "metrics += ['cluster']"
   ]
  },
  {
   "cell_type": "code",
   "execution_count": null,
   "metadata": {},
   "outputs": [],
   "source": [
    "mdf = {metric: pd.DataFrame(res) for metric,res in results.items()}"
   ]
  },
  {
   "cell_type": "code",
   "execution_count": null,
   "metadata": {},
   "outputs": [],
   "source": [
    "mdf['inkratio'].to_csv(\"out.csv\")"
   ]
  },
  {
   "cell_type": "code",
   "execution_count": null,
   "metadata": {},
   "outputs": [],
   "source": [
    "arrdata = list()\n",
    "\n",
    "for i, graph in enumerate(results['distortion'].keys()):\n",
    "    graphmap[i] = graph\n",
    "    for j, alg in enumerate(results['distortion'][graph].keys()):\n",
    "        algmap[j] = alg\n",
    "        arrdata.append([i,j])\n",
    "\n",
    "        for metric in metrics:\n",
    "            arrdata[-1].append(results[metric][graph][alg])\n",
    "\n",
    "arr = np.array(arrdata)"
   ]
  },
  {
   "cell_type": "code",
   "execution_count": null,
   "metadata": {},
   "outputs": [],
   "source": [
    "arr[np.isnan(arr)] = 0.0\n",
    "arr[arr == np.inf] = 0.0"
   ]
  },
  {
   "cell_type": "code",
   "execution_count": null,
   "metadata": {},
   "outputs": [],
   "source": [
    "from scipy.stats import spearmanr\n",
    "correlations = np.zeros((len(metrics), len(metrics)))\n",
    "for i in range(2,2+len(metrics)): \n",
    "    for j in range(2,i):\n",
    "\n",
    "        x1 = arr[:,i]\n",
    "        x2 = arr[:,j]\n",
    "\n",
    "        fig, ax = plt.subplots()\n",
    "        ax.scatter(x1,x2,c=arr[:,1])\n",
    "        ax.set_title(f\"{metrics[i-2]} - {metrics[j-2]}\")\n",
    "\n",
    "        fig.savefig(f\"figures/scatterplots/{i}-{j}.png\")\n",
    "        plt.close(fig)\n",
    "\n",
    "        ranks = spearmanr(x1,x2)\n",
    "        correlations[i-2][j-2] = ranks.statistic\n",
    "        correlations[j-2][i-2] = ranks.statistic"
   ]
  },
  {
   "cell_type": "code",
   "execution_count": null,
   "metadata": {},
   "outputs": [],
   "source": [
    "for i in range(len(metrics)):\n",
    "    print(i+2, metrics[i],np.max(arr[:,i+2]))"
   ]
  },
  {
   "cell_type": "code",
   "execution_count": null,
   "metadata": {},
   "outputs": [],
   "source": [
    "arr[:,3].mean()"
   ]
  },
  {
   "cell_type": "code",
   "execution_count": null,
   "metadata": {},
   "outputs": [],
   "source": [
    "for i in range(len(metrics)):\n",
    "    print(i+2, metrics[i],np.min(arr[:,i+2]))"
   ]
  },
  {
   "cell_type": "code",
   "execution_count": null,
   "metadata": {},
   "outputs": [],
   "source": [
    "from sklearn.preprocessing import RobustScaler, MinMaxScaler\n",
    "\n",
    "inp = RobustScaler().fit_transform(arr[:,2:18])\n",
    "# inp = arr[:,2:]\n"
   ]
  },
  {
   "cell_type": "code",
   "execution_count": null,
   "metadata": {},
   "outputs": [],
   "source": [
    "from sklearn.manifold import TSNE\n",
    "from umap import UMAP\n",
    "\n",
    "# X = UMAP(n_neighbors=25).fit_transform(inp)\n",
    "X = TSNE(perplexity=30).fit_transform(inp)\n",
    "\n",
    "colors = [\"#9467bd\", \"#8c564b\", \"#2ca02c\", \"#1f77b4\", \"#ff7f0e\", ]\n",
    "c = [colors[int(i)] for i in arr[:,1]]\n",
    "\n",
    "plt.scatter(X[:,0], X[:,1], c=c,s=15,alpha=0.8)\n",
    "# Create legend handles\n",
    "\n",
    "handles = [plt.Line2D([0], [0], marker='o', color='w', markerfacecolor=colors[i], markersize=10) for i in range(5)]\n",
    "labmap = {\n",
    "    \"cubu\": \"CUBu\", \"epb\": \"EPB\", \"fd\": \"FD\", \"sepb\": \"S-EPB\", 'wr': \"WR\"\n",
    "}\n",
    "labels = [labmap[algmap[i]] for i in range(5)]\n",
    "\n",
    "# Add the legend\n",
    "plt.legend(handles=handles, labels=labels,)\n",
    "\n",
    "plt.xticks([])\n",
    "plt.yticks([])\n",
    "\n",
    "# plt.suptitle(\"t-SNE plot of bundle algorithms\")\n",
    "plt.savefig(\"figures/tsne.pdf\")"
   ]
  },
  {
   "cell_type": "code",
   "execution_count": null,
   "metadata": {},
   "outputs": [],
   "source": [
    "X.shape[0] // 5"
   ]
  },
  {
   "cell_type": "code",
   "execution_count": null,
   "metadata": {},
   "outputs": [],
   "source": [
    "overviewdata = list()\n",
    "for i,row in enumerate(arr):\n",
    "    gid = row[0]\n",
    "    algid = row[1]\n",
    "    metricvals = row[2:]\n",
    "    overviewdata.append({\n",
    "            'id': i, \n",
    "            'graph': graphmap[gid],\n",
    "            'alg': algmap[algid],\n",
    "        } | {metric: float(mval) for metric,mval in zip(metrics,metricvals)}\n",
    "        | {'tsnex': float(X[i,0]), 'tsney': float(X[i,1])}\n",
    "    )"
   ]
  },
  {
   "cell_type": "code",
   "execution_count": null,
   "metadata": {},
   "outputs": [],
   "source": [
    "import json \n",
    "with open(\"dashboard/overview.json\", 'w') as fdata:\n",
    "    json.dump(overviewdata,fdata,indent=4)"
   ]
  },
  {
   "cell_type": "code",
   "execution_count": null,
   "metadata": {},
   "outputs": [],
   "source": [
    "from sklearn.decomposition import PCA\n",
    "X = PCA(2).fit_transform(inp)\n",
    "\n",
    "plt.scatter(X[:,0], X[:,1], c=arr[:,1])"
   ]
  },
  {
   "cell_type": "code",
   "execution_count": null,
   "metadata": {},
   "outputs": [],
   "source": [
    "metricmap = {metric: i for i,metric in enumerate(metrics)}"
   ]
  },
  {
   "cell_type": "code",
   "execution_count": null,
   "metadata": {},
   "outputs": [],
   "source": [
    "import numpy as np\n",
    "import seaborn as sns\n",
    "import matplotlib.pyplot as plt\n",
    "\n",
    "corr_metrics = ['cluster', \"distortion\", \"frechet\", \"directionality\", \"monotonicity\", \"projected_monotonicity\", \"mean_edge_length_difference\", \n",
    "           \"inkratio\", \"mean_occupation_area\", \"edge_density_distribution\", \n",
    "            'self_intersections', \"directionality_mag\",\n",
    "            \"ambiguity_1\", \"specificity_1\", \"precision_1\", \"FPR_1\"]\n",
    "\n",
    "# corr_metrics += [\"order\", \"size\", \"density\", \"apl\", \"cc\", \"diameter\", \"connectivity\", \"algebraic\"]\n",
    "\n",
    "n = len(corr_metrics)\n",
    "correlation_matrix = np.zeros((n, n))\n",
    "for i,m1 in enumerate(corr_metrics):\n",
    "    for j,m2 in enumerate(corr_metrics):\n",
    "        if i == j: continue\n",
    "        correlation_matrix[i,j] = correlations[metricmap[m1]][metricmap[m2]]\n",
    "        # correlation_matrix[j,i] = correlations[metricmap[m1]][metricmap[m2]]\n",
    "\n",
    "np.fill_diagonal(correlation_matrix,1.0)\n",
    "# mask = np.triu(np.ones_like(correlation_matrix, dtype=bool),k=1)\n",
    "\n",
    "# Plot heatmap\n",
    "plt.figure(figsize=(8, 6))\n",
    "sns.heatmap(correlation_matrix, annot=True, cmap='coolwarm', xticklabels=corr_metrics, yticklabels=corr_metrics, fmt=\".2f\", linewidths=0.5,\n",
    "            vmin=-1,vmax=1,annot_kws={\"size\": 7})\n",
    "\n",
    "\n",
    "# plt.yticks(rotation=45,ha='right')\n",
    "plt.gca().xaxis.set_ticks_position('top')\n",
    "plt.xticks(rotation=25,ha='left')\n",
    "\n",
    "# plt.title('Correlation Heatmap of Objects')\n",
    "plt.tight_layout()\n",
    "plt.savefig(\"figures/correlations.pdf\")"
   ]
  },
  {
   "cell_type": "code",
   "execution_count": null,
   "metadata": {},
   "outputs": [],
   "source": [
    "import scipy.cluster.hierarchy as sch\n",
    "linkage = sch.linkage(correlation_matrix, method='complete', metric='euclidean')\n",
    "dendro = sch.dendrogram(linkage, no_plot=True)\n",
    "order = dendro['leaves']\n",
    "\n",
    "reorder = correlation_matrix[order,:][:,order]"
   ]
  },
  {
   "cell_type": "code",
   "execution_count": null,
   "metadata": {},
   "outputs": [],
   "source": [
    "order"
   ]
  },
  {
   "cell_type": "code",
   "execution_count": null,
   "metadata": {},
   "outputs": [],
   "source": [
    "namemaps = {\n",
    "    \"mean_occupation_area\": \"MOA\",\n",
    "    \"ambiguity_1\": \"Ambiguity\",\n",
    "    \"inkratio\": \"Ink Ratio\",\n",
    "    \"specificity_1\": \"Specificity\",\n",
    "    \"precision_1\": \"Precision\",\n",
    "    \"distortion\": \"Distortion\",\n",
    "    \"FPR_1\": \"False Positive Rate\",\n",
    "    \"frechet\": \"Fréchet\",\n",
    "    \"mean_edge_length_difference\": \"Mean Edge Length Diff.\",\n",
    "    \"monotonicity\": \"Monotonicity\",\n",
    "    \"self_intersections\": \"Self-Intersections\",\n",
    "    \"projected_monotonicity\": \"Projected Monotonicity\",\n",
    "    \"edge_density_distribution\": \"Edge Density Distribution\",\n",
    "    \"directionality\": \"Directionality Change\",\n",
    "    \"directionality_mag\": \"Edge Curvature\",\n",
    "    \"density\": \"Density\", \n",
    "    \"order\": \"|V|\",\n",
    "    \"size\": \"|E|\",\n",
    "    \"apl\": \"APL\",\n",
    "    \"cc\": \"Clust. Coef.\",\n",
    "    \"diameter\": \"Diameter\",\n",
    "    \"connectivity\": \"Node Conn.\",\n",
    "    \"algebraic\": \"Algebraic Conn.\",\n",
    "    \"cluster\": \"Visual Cluster Difference\"\n",
    "}"
   ]
  },
  {
   "cell_type": "code",
   "execution_count": null,
   "metadata": {},
   "outputs": [],
   "source": [
    "# Plot heatmap\n",
    "labels = [corr_metrics[n] for n in order]\n",
    "labels = [namemaps[l] for l in labels]\n",
    "plt.figure(figsize=(8, 6))\n",
    "sns.heatmap(reorder, \n",
    "            annot=True, \n",
    "            cmap='coolwarm', \n",
    "            xticklabels=labels, \n",
    "            yticklabels=labels, \n",
    "            fmt=\".2f\", \n",
    "            linewidths=0.5,\n",
    "            vmin=-1,vmax=1,\n",
    "            annot_kws={\"size\": 7}\n",
    "    )\n",
    "\n",
    "\n",
    "# plt.yticks(rotation=45,ha='right')\n",
    "plt.gca().xaxis.set_ticks_position('top')\n",
    "plt.xticks(rotation=30,ha='left')\n",
    "\n",
    "# plt.title('Correlation Heatmap of Objects')\n",
    "plt.tight_layout()\n",
    "plt.savefig(\"figures/correlations.pdf\",dpi=300)"
   ]
  },
  {
   "cell_type": "code",
   "execution_count": null,
   "metadata": {},
   "outputs": [],
   "source": [
    "cols = [corr_metrics[n] for n in order]\n",
    "\n",
    "rows = [\"order\", \"size\", \"density\"]\n",
    "\n",
    "correlation_matrix = np.zeros((len(rows), len(cols)))\n",
    "for i,m1 in enumerate(rows):\n",
    "    for j,m2 in enumerate(cols):\n",
    "        if i == j: continue\n",
    "        correlation_matrix[i,j] = correlations[metricmap[m1]][metricmap[m2]]\n",
    "        # correlation_matrix[j,i] = correlations[metricmap[m1]][metricmap[m2]]\n",
    "\n",
    "# np.fill_diagonal(correlation_matrix,1.0)\n",
    "# mask = np.triu(np.ones_like(correlation_matrix, dtype=bool),k=1)\n",
    "\n",
    "# Plot heatmap\n",
    "plt.figure(figsize=(8, 3))\n",
    "sns.heatmap(correlation_matrix, \n",
    "            annot=True, \n",
    "            cmap='coolwarm', \n",
    "            xticklabels=[\"\" for n in cols], \n",
    "            yticklabels=[namemaps[n] for n in rows], \n",
    "            fmt=\".2f\", \n",
    "            linewidths=0.5,\n",
    "            vmin=-1,vmax=1,\n",
    "            annot_kws={\"size\": 7},\n",
    "            cbar=False\n",
    "    )\n",
    "\n",
    "\n",
    "# plt.yticks(rotation=45,ha='right')\n",
    "plt.gca().xaxis.set_ticks_position('top')\n",
    "plt.xticks(rotation=25,ha='left')\n",
    "\n",
    "# plt.title('Correlation Heatmap of Objects')\n",
    "plt.tight_layout()\n",
    "plt.savefig(\"figures/correlation_with_props.pdf\")\n"
   ]
  },
  {
   "cell_type": "code",
   "execution_count": null,
   "metadata": {},
   "outputs": [],
   "source": [
    "print(arr[25])"
   ]
  },
  {
   "cell_type": "code",
   "execution_count": null,
   "metadata": {},
   "outputs": [],
   "source": [
    "# import matplotlib.pyplot as plt\n",
    "# import seaborn as sns\n",
    "# import pandas as pd\n",
    "# import numpy as np\n",
    "\n",
    "# def plot_violin_charts(data):\n",
    "#     # Create a DataFrame from the array for easier handling\n",
    "#     df = pd.DataFrame(data)\n",
    "    \n",
    "#     # Assuming the second column (index 1) is the label, and columns 2-11 are the features\n",
    "#     labels = df.iloc[:, 1]  # Labels from the second column\n",
    "#     features = df.columns[2:]  # Feature columns (from index 2 to the last column)\n",
    "    \n",
    "#     num_features = len(features)\n",
    "#     num_rows = (num_features // 5) + (1 if num_features % 5 != 0 else 0)\n",
    "#     fig, axes = plt.subplots(num_rows, 5, figsize=(15, num_rows * 4))\n",
    "    \n",
    "#     axes = axes.flatten()\n",
    "\n",
    "#     for idx, feature in enumerate(features):\n",
    "#         # Create a subplot for each feature\n",
    "#         ax = axes[idx]\n",
    "        \n",
    "#         # Create a violin plot for the current feature, grouped by the second column label\n",
    "#         sns.violinplot(x=labels, y=df[feature],ax=ax,hue=labels,legend=False,palette=[\"#9467bd\", \"#8c564b\", \"#2ca02c\", \"#1f77b4\", \"#ff7f0e\", ]\n",
    "#                        ,cut=0)\n",
    "        \n",
    "#         # Set title and axis labels\n",
    "#         ax.set_title(f\"{metrics[idx]}\")\n",
    "#         # plt.xlabel(f'Label (Second Column)')\n",
    "#         ax.set_xticks(ticks=range(5), labels=[algmap[i] for i in range(5)])\n",
    "#         ax.set_ylabel(\"\")\n",
    "#         ax.set_xlabel(\"\")\n",
    "    \n",
    "#     # Adjust the layout to fit all plots\n",
    "#     plt.tight_layout()\n",
    "#     plt.savefig(\"figures/violins.pdf\")\n",
    "\n",
    "# # Example usage:\n",
    "# # Assuming `data` is your n x 12 array\n",
    "# # data = np.array([...])  # Replace this with your actual data\n",
    "\n",
    "# plot_violin_charts(arr[:,:16])"
   ]
  },
  {
   "cell_type": "code",
   "execution_count": null,
   "metadata": {},
   "outputs": [],
   "source": [
    "def linearize_dataframe(df):\n",
    "    # Create a long-format dataframe where each value becomes a row\n",
    "    long_df = df.reset_index().melt(id_vars='index', var_name='graph', value_name='value')\n",
    "    \n",
    "    # Rename the columns to match the desired format\n",
    "    long_df = long_df.rename(columns={'index': 'algorithm'})\n",
    "    \n",
    "    return long_df"
   ]
  },
  {
   "cell_type": "code",
   "execution_count": null,
   "metadata": {},
   "outputs": [],
   "source": [
    "import seaborn as sns\n",
    "distortion = linearize_dataframe(mdf['inkratio'])\n",
    "\n",
    "sns.histplot(distortion, x='value', hue='algorithm',)"
   ]
  },
  {
   "cell_type": "code",
   "execution_count": null,
   "metadata": {},
   "outputs": [],
   "source": [
    "sns.kdeplot(distortion,x='value',hue='algorithm',fill=True)\n"
   ]
  },
  {
   "cell_type": "code",
   "execution_count": null,
   "metadata": {},
   "outputs": [],
   "source": [
    "if not os.path.isdir(\"figures/kde\"): os.mkdir(\"figures/kde\")\n",
    "if not os.path.isdir(\"figures/violin\"): os.mkdir(\"figures/violin\")\n",
    "\n",
    "\n",
    "algs = [\"CuBu\", \"EPB\", \"FD\", \"S-EPB\", \"WR\"]\n",
    "for metric in metrics:\n",
    "    metricdf = linearize_dataframe(mdf[metric])\n",
    "\n",
    "    fig,ax = plt.subplots()\n",
    "    sns.kdeplot(metricdf,x='value',hue='algorithm',palette=colors,ax=ax,legend=False,fill=True)\n",
    "    ax.set_xlabel(f\"{metric}\")\n",
    "    ax.set_title(f\"{metric}\")\n",
    "\n",
    "    largex = np.percentile(metricdf['value'],1)\n",
    "    ax.set_xlim(0,max(max(metricdf['value']), 1))\n",
    "\n",
    "    fig.set_size_inches(5,2)\n",
    "    fig.tight_layout()\n",
    "    fig.savefig(f\"figures/kde/{metric}.pdf\")\n",
    "    plt.close(fig)\n",
    "\n",
    "    fig,ax = plt.subplots()\n",
    "    sns.violinplot(metricdf, x='value', y='algorithm',hue='algorithm', palette=colors,ax=ax,legend=False,)\n",
    "\n",
    "\n",
    "    fig.savefig(f\"figures/violin/{metric}.pdf\")\n",
    "    plt.close(fig)"
   ]
  }
 ],
 "metadata": {
  "kernelspec": {
   "display_name": "bundling",
   "language": "python",
   "name": "python3"
  },
  "language_info": {
   "codemirror_mode": {
    "name": "ipython",
    "version": 3
   },
   "file_extension": ".py",
   "mimetype": "text/x-python",
   "name": "python",
   "nbconvert_exporter": "python",
   "pygments_lexer": "ipython3",
   "version": "3.12.0"
  }
 },
 "nbformat": 4,
 "nbformat_minor": 2
}
